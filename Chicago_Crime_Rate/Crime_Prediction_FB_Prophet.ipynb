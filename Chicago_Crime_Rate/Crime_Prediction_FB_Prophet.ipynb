{
 "cells": [
  {
   "cell_type": "code",
   "execution_count": 1,
   "metadata": {},
   "outputs": [],
   "source": [
    "import pandas as pd\n",
    "import numpy as np\n",
    "import seaborn as sns\n",
    "import matplotlib.pyplot as plt\n",
    "from fbprophet import Prophet"
   ]
  },
  {
   "cell_type": "code",
   "execution_count": 2,
   "metadata": {},
   "outputs": [
    {
     "name": "stderr",
     "output_type": "stream",
     "text": [
      "b'Skipping line 533719: expected 23 fields, saw 24\\n'\n",
      "b'Skipping line 1149094: expected 23 fields, saw 41\\n'\n"
     ]
    }
   ],
   "source": [
    "df1 = pd.read_csv('data/Chicago_Crimes_2005_to_2007.csv', error_bad_lines = False)\n",
    "df2 = pd.read_csv('data/Chicago_Crimes_2008_to_2011.csv', error_bad_lines = False)\n",
    "df3 = pd.read_csv('data/Chicago_Crimes_2012_to_2017.csv', error_bad_lines = False)"
   ]
  },
  {
   "cell_type": "code",
   "execution_count": 3,
   "metadata": {},
   "outputs": [],
   "source": [
    "data = pd.concat( [df1, df2, df3] )"
   ]
  },
  {
   "cell_type": "code",
   "execution_count": 4,
   "metadata": {},
   "outputs": [
    {
     "name": "stdout",
     "output_type": "stream",
     "text": [
      "(1872343, 23) (2688710, 23) (1456714, 23)\n"
     ]
    }
   ],
   "source": [
    "print( df1.shape, df2.shape, df3.shape)"
   ]
  },
  {
   "cell_type": "code",
   "execution_count": 5,
   "metadata": {},
   "outputs": [
    {
     "data": {
      "text/plain": [
       "(6017767, 23)"
      ]
     },
     "execution_count": 5,
     "metadata": {},
     "output_type": "execute_result"
    }
   ],
   "source": [
    "data.shape"
   ]
  },
  {
   "cell_type": "code",
   "execution_count": 6,
   "metadata": {},
   "outputs": [
    {
     "data": {
      "text/html": [
       "<div>\n",
       "<style scoped>\n",
       "    .dataframe tbody tr th:only-of-type {\n",
       "        vertical-align: middle;\n",
       "    }\n",
       "\n",
       "    .dataframe tbody tr th {\n",
       "        vertical-align: top;\n",
       "    }\n",
       "\n",
       "    .dataframe thead th {\n",
       "        text-align: right;\n",
       "    }\n",
       "</style>\n",
       "<table border=\"1\" class=\"dataframe\">\n",
       "  <thead>\n",
       "    <tr style=\"text-align: right;\">\n",
       "      <th></th>\n",
       "      <th>Unnamed: 0</th>\n",
       "      <th>ID</th>\n",
       "      <th>Case Number</th>\n",
       "      <th>Date</th>\n",
       "      <th>Block</th>\n",
       "      <th>IUCR</th>\n",
       "      <th>Primary Type</th>\n",
       "      <th>Description</th>\n",
       "      <th>Location Description</th>\n",
       "      <th>Arrest</th>\n",
       "      <th>...</th>\n",
       "      <th>Ward</th>\n",
       "      <th>Community Area</th>\n",
       "      <th>FBI Code</th>\n",
       "      <th>X Coordinate</th>\n",
       "      <th>Y Coordinate</th>\n",
       "      <th>Year</th>\n",
       "      <th>Updated On</th>\n",
       "      <th>Latitude</th>\n",
       "      <th>Longitude</th>\n",
       "      <th>Location</th>\n",
       "    </tr>\n",
       "  </thead>\n",
       "  <tbody>\n",
       "    <tr>\n",
       "      <th>0</th>\n",
       "      <td>0</td>\n",
       "      <td>4673626</td>\n",
       "      <td>HM274058</td>\n",
       "      <td>04/02/2006 01:00:00 PM</td>\n",
       "      <td>055XX N MANGO AVE</td>\n",
       "      <td>2825</td>\n",
       "      <td>OTHER OFFENSE</td>\n",
       "      <td>HARASSMENT BY TELEPHONE</td>\n",
       "      <td>RESIDENCE</td>\n",
       "      <td>False</td>\n",
       "      <td>...</td>\n",
       "      <td>45.0</td>\n",
       "      <td>11.0</td>\n",
       "      <td>26</td>\n",
       "      <td>1136872.0</td>\n",
       "      <td>1936499.0</td>\n",
       "      <td>2006</td>\n",
       "      <td>04/15/2016 08:55:02 AM</td>\n",
       "      <td>41.981913</td>\n",
       "      <td>-87.771996</td>\n",
       "      <td>(41.981912692, -87.771996382)</td>\n",
       "    </tr>\n",
       "    <tr>\n",
       "      <th>1</th>\n",
       "      <td>1</td>\n",
       "      <td>4673627</td>\n",
       "      <td>HM202199</td>\n",
       "      <td>02/26/2006 01:40:48 PM</td>\n",
       "      <td>065XX S RHODES AVE</td>\n",
       "      <td>2017</td>\n",
       "      <td>NARCOTICS</td>\n",
       "      <td>MANU/DELIVER:CRACK</td>\n",
       "      <td>SIDEWALK</td>\n",
       "      <td>True</td>\n",
       "      <td>...</td>\n",
       "      <td>20.0</td>\n",
       "      <td>42.0</td>\n",
       "      <td>18</td>\n",
       "      <td>1181027.0</td>\n",
       "      <td>1861693.0</td>\n",
       "      <td>2006</td>\n",
       "      <td>04/15/2016 08:55:02 AM</td>\n",
       "      <td>41.775733</td>\n",
       "      <td>-87.611920</td>\n",
       "      <td>(41.775732538, -87.611919814)</td>\n",
       "    </tr>\n",
       "    <tr>\n",
       "      <th>2</th>\n",
       "      <td>2</td>\n",
       "      <td>4673628</td>\n",
       "      <td>HM113861</td>\n",
       "      <td>01/08/2006 11:16:00 PM</td>\n",
       "      <td>013XX E 69TH ST</td>\n",
       "      <td>051A</td>\n",
       "      <td>ASSAULT</td>\n",
       "      <td>AGGRAVATED: HANDGUN</td>\n",
       "      <td>OTHER</td>\n",
       "      <td>False</td>\n",
       "      <td>...</td>\n",
       "      <td>5.0</td>\n",
       "      <td>69.0</td>\n",
       "      <td>04A</td>\n",
       "      <td>1186023.0</td>\n",
       "      <td>1859609.0</td>\n",
       "      <td>2006</td>\n",
       "      <td>04/15/2016 08:55:02 AM</td>\n",
       "      <td>41.769897</td>\n",
       "      <td>-87.593671</td>\n",
       "      <td>(41.769897392, -87.593670899)</td>\n",
       "    </tr>\n",
       "    <tr>\n",
       "      <th>3</th>\n",
       "      <td>4</td>\n",
       "      <td>4673629</td>\n",
       "      <td>HM274049</td>\n",
       "      <td>04/05/2006 06:45:00 PM</td>\n",
       "      <td>061XX W NEWPORT AVE</td>\n",
       "      <td>0460</td>\n",
       "      <td>BATTERY</td>\n",
       "      <td>SIMPLE</td>\n",
       "      <td>RESIDENCE</td>\n",
       "      <td>False</td>\n",
       "      <td>...</td>\n",
       "      <td>38.0</td>\n",
       "      <td>17.0</td>\n",
       "      <td>08B</td>\n",
       "      <td>1134772.0</td>\n",
       "      <td>1922299.0</td>\n",
       "      <td>2006</td>\n",
       "      <td>04/15/2016 08:55:02 AM</td>\n",
       "      <td>41.942984</td>\n",
       "      <td>-87.780057</td>\n",
       "      <td>(41.942984005, -87.780056951)</td>\n",
       "    </tr>\n",
       "    <tr>\n",
       "      <th>4</th>\n",
       "      <td>5</td>\n",
       "      <td>4673630</td>\n",
       "      <td>HM187120</td>\n",
       "      <td>02/17/2006 09:03:14 PM</td>\n",
       "      <td>037XX W 60TH ST</td>\n",
       "      <td>1811</td>\n",
       "      <td>NARCOTICS</td>\n",
       "      <td>POSS: CANNABIS 30GMS OR LESS</td>\n",
       "      <td>ALLEY</td>\n",
       "      <td>True</td>\n",
       "      <td>...</td>\n",
       "      <td>13.0</td>\n",
       "      <td>65.0</td>\n",
       "      <td>18</td>\n",
       "      <td>1152412.0</td>\n",
       "      <td>1864560.0</td>\n",
       "      <td>2006</td>\n",
       "      <td>04/15/2016 08:55:02 AM</td>\n",
       "      <td>41.784211</td>\n",
       "      <td>-87.716745</td>\n",
       "      <td>(41.784210853, -87.71674491)</td>\n",
       "    </tr>\n",
       "  </tbody>\n",
       "</table>\n",
       "<p>5 rows × 23 columns</p>\n",
       "</div>"
      ],
      "text/plain": [
       "   Unnamed: 0       ID Case Number                    Date  \\\n",
       "0           0  4673626    HM274058  04/02/2006 01:00:00 PM   \n",
       "1           1  4673627    HM202199  02/26/2006 01:40:48 PM   \n",
       "2           2  4673628    HM113861  01/08/2006 11:16:00 PM   \n",
       "3           4  4673629    HM274049  04/05/2006 06:45:00 PM   \n",
       "4           5  4673630    HM187120  02/17/2006 09:03:14 PM   \n",
       "\n",
       "                 Block  IUCR   Primary Type                   Description  \\\n",
       "0    055XX N MANGO AVE  2825  OTHER OFFENSE       HARASSMENT BY TELEPHONE   \n",
       "1   065XX S RHODES AVE  2017      NARCOTICS            MANU/DELIVER:CRACK   \n",
       "2      013XX E 69TH ST  051A        ASSAULT           AGGRAVATED: HANDGUN   \n",
       "3  061XX W NEWPORT AVE  0460        BATTERY                        SIMPLE   \n",
       "4      037XX W 60TH ST  1811      NARCOTICS  POSS: CANNABIS 30GMS OR LESS   \n",
       "\n",
       "  Location Description  Arrest  ...  Ward  Community Area  FBI Code  \\\n",
       "0            RESIDENCE   False  ...  45.0            11.0        26   \n",
       "1             SIDEWALK    True  ...  20.0            42.0        18   \n",
       "2                OTHER   False  ...   5.0            69.0       04A   \n",
       "3            RESIDENCE   False  ...  38.0            17.0       08B   \n",
       "4                ALLEY    True  ...  13.0            65.0        18   \n",
       "\n",
       "   X Coordinate  Y Coordinate  Year              Updated On   Latitude  \\\n",
       "0     1136872.0     1936499.0  2006  04/15/2016 08:55:02 AM  41.981913   \n",
       "1     1181027.0     1861693.0  2006  04/15/2016 08:55:02 AM  41.775733   \n",
       "2     1186023.0     1859609.0  2006  04/15/2016 08:55:02 AM  41.769897   \n",
       "3     1134772.0     1922299.0  2006  04/15/2016 08:55:02 AM  41.942984   \n",
       "4     1152412.0     1864560.0  2006  04/15/2016 08:55:02 AM  41.784211   \n",
       "\n",
       "   Longitude                       Location  \n",
       "0 -87.771996  (41.981912692, -87.771996382)  \n",
       "1 -87.611920  (41.775732538, -87.611919814)  \n",
       "2 -87.593671  (41.769897392, -87.593670899)  \n",
       "3 -87.780057  (41.942984005, -87.780056951)  \n",
       "4 -87.716745   (41.784210853, -87.71674491)  \n",
       "\n",
       "[5 rows x 23 columns]"
      ]
     },
     "execution_count": 6,
     "metadata": {},
     "output_type": "execute_result"
    }
   ],
   "source": [
    "data.head()"
   ]
  },
  {
   "cell_type": "code",
   "execution_count": 7,
   "metadata": {},
   "outputs": [
    {
     "data": {
      "text/html": [
       "<div>\n",
       "<style scoped>\n",
       "    .dataframe tbody tr th:only-of-type {\n",
       "        vertical-align: middle;\n",
       "    }\n",
       "\n",
       "    .dataframe tbody tr th {\n",
       "        vertical-align: top;\n",
       "    }\n",
       "\n",
       "    .dataframe thead th {\n",
       "        text-align: right;\n",
       "    }\n",
       "</style>\n",
       "<table border=\"1\" class=\"dataframe\">\n",
       "  <thead>\n",
       "    <tr style=\"text-align: right;\">\n",
       "      <th></th>\n",
       "      <th>Unnamed: 0</th>\n",
       "      <th>ID</th>\n",
       "      <th>Beat</th>\n",
       "      <th>District</th>\n",
       "      <th>Ward</th>\n",
       "      <th>Community Area</th>\n",
       "      <th>X Coordinate</th>\n",
       "      <th>Y Coordinate</th>\n",
       "      <th>Year</th>\n",
       "      <th>Latitude</th>\n",
       "      <th>Longitude</th>\n",
       "    </tr>\n",
       "  </thead>\n",
       "  <tbody>\n",
       "    <tr>\n",
       "      <th>count</th>\n",
       "      <td>6.017767e+06</td>\n",
       "      <td>6.017767e+06</td>\n",
       "      <td>6.017767e+06</td>\n",
       "      <td>6.017678e+06</td>\n",
       "      <td>6.017675e+06</td>\n",
       "      <td>6.015923e+06</td>\n",
       "      <td>5.942885e+06</td>\n",
       "      <td>5.942885e+06</td>\n",
       "      <td>6.017767e+06</td>\n",
       "      <td>5.942885e+06</td>\n",
       "      <td>5.942885e+06</td>\n",
       "    </tr>\n",
       "    <tr>\n",
       "      <th>mean</th>\n",
       "      <td>2.104370e+06</td>\n",
       "      <td>7.037060e+06</td>\n",
       "      <td>1.191230e+03</td>\n",
       "      <td>1.130111e+01</td>\n",
       "      <td>2.265295e+01</td>\n",
       "      <td>3.784779e+01</td>\n",
       "      <td>1.164426e+06</td>\n",
       "      <td>1.885254e+06</td>\n",
       "      <td>2.009371e+03</td>\n",
       "      <td>4.184073e+01</td>\n",
       "      <td>-8.767214e+01</td>\n",
       "    </tr>\n",
       "    <tr>\n",
       "      <th>std</th>\n",
       "      <td>1.694528e+06</td>\n",
       "      <td>1.849589e+06</td>\n",
       "      <td>7.026427e+02</td>\n",
       "      <td>6.933820e+00</td>\n",
       "      <td>1.375739e+01</td>\n",
       "      <td>2.158409e+01</td>\n",
       "      <td>1.792610e+04</td>\n",
       "      <td>3.373090e+04</td>\n",
       "      <td>3.079192e+00</td>\n",
       "      <td>9.285315e-02</td>\n",
       "      <td>6.465034e-02</td>\n",
       "    </tr>\n",
       "    <tr>\n",
       "      <th>min</th>\n",
       "      <td>0.000000e+00</td>\n",
       "      <td>3.012000e+03</td>\n",
       "      <td>1.110000e+02</td>\n",
       "      <td>1.000000e+00</td>\n",
       "      <td>1.000000e+00</td>\n",
       "      <td>0.000000e+00</td>\n",
       "      <td>0.000000e+00</td>\n",
       "      <td>0.000000e+00</td>\n",
       "      <td>2.005000e+03</td>\n",
       "      <td>3.661945e+01</td>\n",
       "      <td>-9.168657e+01</td>\n",
       "    </tr>\n",
       "    <tr>\n",
       "      <th>25%</th>\n",
       "      <td>9.269010e+05</td>\n",
       "      <td>5.499442e+06</td>\n",
       "      <td>6.220000e+02</td>\n",
       "      <td>6.000000e+00</td>\n",
       "      <td>1.000000e+01</td>\n",
       "      <td>2.300000e+01</td>\n",
       "      <td>1.152773e+06</td>\n",
       "      <td>1.858676e+06</td>\n",
       "      <td>2.007000e+03</td>\n",
       "      <td>4.176759e+01</td>\n",
       "      <td>-8.771446e+01</td>\n",
       "    </tr>\n",
       "    <tr>\n",
       "      <th>50%</th>\n",
       "      <td>1.679122e+06</td>\n",
       "      <td>6.932575e+06</td>\n",
       "      <td>1.034000e+03</td>\n",
       "      <td>1.000000e+01</td>\n",
       "      <td>2.200000e+01</td>\n",
       "      <td>3.200000e+01</td>\n",
       "      <td>1.165910e+06</td>\n",
       "      <td>1.889744e+06</td>\n",
       "      <td>2.009000e+03</td>\n",
       "      <td>4.185293e+01</td>\n",
       "      <td>-8.766646e+01</td>\n",
       "    </tr>\n",
       "    <tr>\n",
       "      <th>75%</th>\n",
       "      <td>2.839172e+06</td>\n",
       "      <td>8.359282e+06</td>\n",
       "      <td>1.731000e+03</td>\n",
       "      <td>1.700000e+01</td>\n",
       "      <td>3.400000e+01</td>\n",
       "      <td>5.800000e+01</td>\n",
       "      <td>1.176352e+06</td>\n",
       "      <td>1.909091e+06</td>\n",
       "      <td>2.011000e+03</td>\n",
       "      <td>4.190640e+01</td>\n",
       "      <td>-8.762845e+01</td>\n",
       "    </tr>\n",
       "    <tr>\n",
       "      <th>max</th>\n",
       "      <td>6.254267e+06</td>\n",
       "      <td>1.082788e+07</td>\n",
       "      <td>2.535000e+03</td>\n",
       "      <td>3.100000e+01</td>\n",
       "      <td>5.000000e+01</td>\n",
       "      <td>7.700000e+01</td>\n",
       "      <td>1.205119e+06</td>\n",
       "      <td>1.951573e+06</td>\n",
       "      <td>2.017000e+03</td>\n",
       "      <td>4.202271e+01</td>\n",
       "      <td>-8.752453e+01</td>\n",
       "    </tr>\n",
       "  </tbody>\n",
       "</table>\n",
       "</div>"
      ],
      "text/plain": [
       "         Unnamed: 0            ID          Beat      District          Ward  \\\n",
       "count  6.017767e+06  6.017767e+06  6.017767e+06  6.017678e+06  6.017675e+06   \n",
       "mean   2.104370e+06  7.037060e+06  1.191230e+03  1.130111e+01  2.265295e+01   \n",
       "std    1.694528e+06  1.849589e+06  7.026427e+02  6.933820e+00  1.375739e+01   \n",
       "min    0.000000e+00  3.012000e+03  1.110000e+02  1.000000e+00  1.000000e+00   \n",
       "25%    9.269010e+05  5.499442e+06  6.220000e+02  6.000000e+00  1.000000e+01   \n",
       "50%    1.679122e+06  6.932575e+06  1.034000e+03  1.000000e+01  2.200000e+01   \n",
       "75%    2.839172e+06  8.359282e+06  1.731000e+03  1.700000e+01  3.400000e+01   \n",
       "max    6.254267e+06  1.082788e+07  2.535000e+03  3.100000e+01  5.000000e+01   \n",
       "\n",
       "       Community Area  X Coordinate  Y Coordinate          Year      Latitude  \\\n",
       "count    6.015923e+06  5.942885e+06  5.942885e+06  6.017767e+06  5.942885e+06   \n",
       "mean     3.784779e+01  1.164426e+06  1.885254e+06  2.009371e+03  4.184073e+01   \n",
       "std      2.158409e+01  1.792610e+04  3.373090e+04  3.079192e+00  9.285315e-02   \n",
       "min      0.000000e+00  0.000000e+00  0.000000e+00  2.005000e+03  3.661945e+01   \n",
       "25%      2.300000e+01  1.152773e+06  1.858676e+06  2.007000e+03  4.176759e+01   \n",
       "50%      3.200000e+01  1.165910e+06  1.889744e+06  2.009000e+03  4.185293e+01   \n",
       "75%      5.800000e+01  1.176352e+06  1.909091e+06  2.011000e+03  4.190640e+01   \n",
       "max      7.700000e+01  1.205119e+06  1.951573e+06  2.017000e+03  4.202271e+01   \n",
       "\n",
       "          Longitude  \n",
       "count  5.942885e+06  \n",
       "mean  -8.767214e+01  \n",
       "std    6.465034e-02  \n",
       "min   -9.168657e+01  \n",
       "25%   -8.771446e+01  \n",
       "50%   -8.766646e+01  \n",
       "75%   -8.762845e+01  \n",
       "max   -8.752453e+01  "
      ]
     },
     "execution_count": 7,
     "metadata": {},
     "output_type": "execute_result"
    }
   ],
   "source": [
    "data.describe()"
   ]
  },
  {
   "cell_type": "code",
   "execution_count": 8,
   "metadata": {},
   "outputs": [
    {
     "name": "stdout",
     "output_type": "stream",
     "text": [
      "<class 'pandas.core.frame.DataFrame'>\n",
      "Int64Index: 6017767 entries, 0 to 1456713\n",
      "Data columns (total 23 columns):\n",
      "Unnamed: 0              int64\n",
      "ID                      int64\n",
      "Case Number             object\n",
      "Date                    object\n",
      "Block                   object\n",
      "IUCR                    object\n",
      "Primary Type            object\n",
      "Description             object\n",
      "Location Description    object\n",
      "Arrest                  bool\n",
      "Domestic                bool\n",
      "Beat                    int64\n",
      "District                float64\n",
      "Ward                    float64\n",
      "Community Area          float64\n",
      "FBI Code                object\n",
      "X Coordinate            float64\n",
      "Y Coordinate            float64\n",
      "Year                    int64\n",
      "Updated On              object\n",
      "Latitude                float64\n",
      "Longitude               float64\n",
      "Location                object\n",
      "dtypes: bool(2), float64(7), int64(4), object(10)\n",
      "memory usage: 1021.5+ MB\n"
     ]
    }
   ],
   "source": [
    "data.info()"
   ]
  },
  {
   "cell_type": "code",
   "execution_count": 9,
   "metadata": {},
   "outputs": [
    {
     "data": {
      "text/plain": [
       "Unnamed: 0                  0\n",
       "ID                          0\n",
       "Case Number                 7\n",
       "Date                        0\n",
       "Block                       0\n",
       "IUCR                        0\n",
       "Primary Type                0\n",
       "Description                 0\n",
       "Location Description     1974\n",
       "Arrest                      0\n",
       "Domestic                    0\n",
       "Beat                        0\n",
       "District                   89\n",
       "Ward                       92\n",
       "Community Area           1844\n",
       "FBI Code                    0\n",
       "X Coordinate            74882\n",
       "Y Coordinate            74882\n",
       "Year                        0\n",
       "Updated On                  0\n",
       "Latitude                74882\n",
       "Longitude               74882\n",
       "Location                74882\n",
       "dtype: int64"
      ]
     },
     "execution_count": 9,
     "metadata": {},
     "output_type": "execute_result"
    }
   ],
   "source": [
    "data.isnull().sum()"
   ]
  },
  {
   "cell_type": "code",
   "execution_count": 10,
   "metadata": {},
   "outputs": [],
   "source": [
    "data.drop(['Unnamed: 0', 'Case Number', 'Case Number', 'IUCR', 'X Coordinate', 'Y Coordinate', 'Latitude', 'Longitude', 'Location', 'Updated On', 'FBI Code', 'Beat', 'Ward', 'Community Area', 'Location', 'District', 'ID', 'Year'], axis = 1, inplace = True)"
   ]
  },
  {
   "cell_type": "code",
   "execution_count": 11,
   "metadata": {},
   "outputs": [
    {
     "data": {
      "text/plain": [
       "(6017767, 7)"
      ]
     },
     "execution_count": 11,
     "metadata": {},
     "output_type": "execute_result"
    }
   ],
   "source": [
    "data.shape"
   ]
  },
  {
   "cell_type": "code",
   "execution_count": 13,
   "metadata": {},
   "outputs": [],
   "source": [
    "data.Date = pd.to_datetime(data.Date, format = '%m/%d/%Y %I:%M:%S %p')"
   ]
  },
  {
   "cell_type": "code",
   "execution_count": 14,
   "metadata": {},
   "outputs": [
    {
     "data": {
      "text/plain": [
       "0         2006-04-02 13:00:00\n",
       "1         2006-02-26 13:40:48\n",
       "2         2006-01-08 23:16:00\n",
       "3         2006-04-05 18:45:00\n",
       "4         2006-02-17 21:03:14\n",
       "                  ...        \n",
       "1456709   2016-05-03 23:33:00\n",
       "1456710   2016-05-03 23:30:00\n",
       "1456711   2016-05-03 00:15:00\n",
       "1456712   2016-05-03 21:07:00\n",
       "1456713   2016-05-03 23:38:00\n",
       "Name: Date, Length: 6017767, dtype: datetime64[ns]"
      ]
     },
     "execution_count": 14,
     "metadata": {},
     "output_type": "execute_result"
    }
   ],
   "source": [
    "data.Date"
   ]
  },
  {
   "cell_type": "code",
   "execution_count": 23,
   "metadata": {},
   "outputs": [],
   "source": [
    "data.index = pd.DatetimeIndex(data.Date)"
   ]
  },
  {
   "cell_type": "code",
   "execution_count": 20,
   "metadata": {},
   "outputs": [],
   "source": [
    "order_data = data['Primary Type'].value_counts().iloc[:15].index"
   ]
  },
  {
   "cell_type": "code",
   "execution_count": 21,
   "metadata": {},
   "outputs": [
    {
     "data": {
      "text/plain": [
       "<matplotlib.axes._subplots.AxesSubplot at 0x1f98e4accc8>"
      ]
     },
     "execution_count": 21,
     "metadata": {},
     "output_type": "execute_result"
    },
    {
     "data": {
      "image/png": "[encoded data removed]",
      "text/plain": [
       "<Figure size 1080x720 with 1 Axes>"
      ]
     },
     "metadata": {
      "needs_background": "light"
     },
     "output_type": "display_data"
    }
   ],
   "source": [
    "plt.figure( figsize = (15,10) )\n",
    "sns.countplot( y = 'Primary Type', data = data, order = order_data)"
   ]
  },
  {
   "cell_type": "code",
   "execution_count": 22,
   "metadata": {},
   "outputs": [
    {
     "data": {
      "text/plain": [
       "<matplotlib.axes._subplots.AxesSubplot at 0x1f991fba548>"
      ]
     },
     "execution_count": 22,
     "metadata": {},
     "output_type": "execute_result"
    },
    {
     "data": {
      "image/png": "[encoded data removed]",
      "text/plain": [
       "<Figure size 1080x720 with 1 Axes>"
      ]
     },
     "metadata": {
      "needs_background": "light"
     },
     "output_type": "display_data"
    }
   ],
   "source": [
    "order_data = data['Location Description'].value_counts().iloc[:15].index\n",
    "\n",
    "plt.figure( figsize = (15,10) )\n",
    "sns.countplot( y = 'Location Description', data = data, order = order_data)"
   ]
  },
  {
   "cell_type": "code",
   "execution_count": 24,
   "metadata": {},
   "outputs": [
    {
     "data": {
      "text/plain": [
       "Date\n",
       "2005-12-31    455811\n",
       "2006-12-31    794684\n",
       "2007-12-31    621848\n",
       "2008-12-31    852053\n",
       "2009-12-31    783900\n",
       "2010-12-31    700691\n",
       "2011-12-31    352066\n",
       "2012-12-31    335670\n",
       "2013-12-31    306703\n",
       "2014-12-31    274527\n",
       "2015-12-31    262995\n",
       "2016-12-31    265462\n",
       "2017-12-31     11357\n",
       "Freq: A-DEC, dtype: int64"
      ]
     },
     "execution_count": 24,
     "metadata": {},
     "output_type": "execute_result"
    }
   ],
   "source": [
    "data.resample('Y').size()"
   ]
  },
  {
   "cell_type": "code",
   "execution_count": 29,
   "metadata": {},
   "outputs": [
    {
     "data": {
      "text/plain": [
       "Text(0, 0.5, 'Number of Crimes')"
      ]
     },
     "execution_count": 29,
     "metadata": {},
     "output_type": "execute_result"
    },
    {
     "data": {
      "image/png": "[encoded data removed]",
      "text/plain": [
       "<Figure size 432x288 with 1 Axes>"
      ]
     },
     "metadata": {
      "needs_background": "light"
     },
     "output_type": "display_data"
    }
   ],
   "source": [
    "plt.plot(data.resample('Y').size())\n",
    "plt.title('Crime Count Per Year')\n",
    "plt.xlabel('Years')\n",
    "plt.ylabel('Number of Crimes')"
   ]
  },
  {
   "cell_type": "code",
   "execution_count": 30,
   "metadata": {},
   "outputs": [
    {
     "data": {
      "text/plain": [
       "Text(0, 0.5, 'Number of Crimes')"
      ]
     },
     "execution_count": 30,
     "metadata": {},
     "output_type": "execute_result"
    },
    {
     "data": {
      "image/png": "[encoded data removed]",
      "text/plain": [
       "<Figure size 432x288 with 1 Axes>"
      ]
     },
     "metadata": {
      "needs_background": "light"
     },
     "output_type": "display_data"
    }
   ],
   "source": [
    "plt.plot(data.resample('M').size())\n",
    "plt.title('Crime Count Per Month')\n",
    "plt.xlabel('Month')\n",
    "plt.ylabel('Number of Crimes')"
   ]
  },
  {
   "cell_type": "code",
   "execution_count": 31,
   "metadata": {},
   "outputs": [
    {
     "data": {
      "text/plain": [
       "Text(0, 0.5, 'Number of Crimes')"
      ]
     },
     "execution_count": 31,
     "metadata": {},
     "output_type": "execute_result"
    },
    {
     "data": {
      "image/png": "[encoded data removed]",
      "text/plain": [
       "<Figure size 432x288 with 1 Axes>"
      ]
     },
     "metadata": {
      "needs_background": "light"
     },
     "output_type": "display_data"
    }
   ],
   "source": [
    "plt.plot(data.resample('Q').size())\n",
    "plt.title('Crime Count Per Quarter')\n",
    "plt.xlabel('Years')\n",
    "plt.ylabel('Number of Crimes')"
   ]
  },
  {
   "cell_type": "code",
   "execution_count": 32,
   "metadata": {},
   "outputs": [],
   "source": [
    "data_prophet = data.resample('M').size().reset_index()"
   ]
  },
  {
   "cell_type": "code",
   "execution_count": 33,
   "metadata": {},
   "outputs": [
    {
     "data": {
      "text/html": [
       "<div>\n",
       "<style scoped>\n",
       "    .dataframe tbody tr th:only-of-type {\n",
       "        vertical-align: middle;\n",
       "    }\n",
       "\n",
       "    .dataframe tbody tr th {\n",
       "        vertical-align: top;\n",
       "    }\n",
       "\n",
       "    .dataframe thead th {\n",
       "        text-align: right;\n",
       "    }\n",
       "</style>\n",
       "<table border=\"1\" class=\"dataframe\">\n",
       "  <thead>\n",
       "    <tr style=\"text-align: right;\">\n",
       "      <th></th>\n",
       "      <th>Date</th>\n",
       "      <th>0</th>\n",
       "    </tr>\n",
       "  </thead>\n",
       "  <tbody>\n",
       "    <tr>\n",
       "      <th>0</th>\n",
       "      <td>2005-01-31</td>\n",
       "      <td>33983</td>\n",
       "    </tr>\n",
       "    <tr>\n",
       "      <th>1</th>\n",
       "      <td>2005-02-28</td>\n",
       "      <td>32042</td>\n",
       "    </tr>\n",
       "    <tr>\n",
       "      <th>2</th>\n",
       "      <td>2005-03-31</td>\n",
       "      <td>36970</td>\n",
       "    </tr>\n",
       "    <tr>\n",
       "      <th>3</th>\n",
       "      <td>2005-04-30</td>\n",
       "      <td>38963</td>\n",
       "    </tr>\n",
       "    <tr>\n",
       "      <th>4</th>\n",
       "      <td>2005-05-31</td>\n",
       "      <td>40572</td>\n",
       "    </tr>\n",
       "    <tr>\n",
       "      <th>...</th>\n",
       "      <td>...</td>\n",
       "      <td>...</td>\n",
       "    </tr>\n",
       "    <tr>\n",
       "      <th>140</th>\n",
       "      <td>2016-09-30</td>\n",
       "      <td>23235</td>\n",
       "    </tr>\n",
       "    <tr>\n",
       "      <th>141</th>\n",
       "      <td>2016-10-31</td>\n",
       "      <td>23314</td>\n",
       "    </tr>\n",
       "    <tr>\n",
       "      <th>142</th>\n",
       "      <td>2016-11-30</td>\n",
       "      <td>21140</td>\n",
       "    </tr>\n",
       "    <tr>\n",
       "      <th>143</th>\n",
       "      <td>2016-12-31</td>\n",
       "      <td>19580</td>\n",
       "    </tr>\n",
       "    <tr>\n",
       "      <th>144</th>\n",
       "      <td>2017-01-31</td>\n",
       "      <td>11357</td>\n",
       "    </tr>\n",
       "  </tbody>\n",
       "</table>\n",
       "<p>145 rows × 2 columns</p>\n",
       "</div>"
      ],
      "text/plain": [
       "          Date      0\n",
       "0   2005-01-31  33983\n",
       "1   2005-02-28  32042\n",
       "2   2005-03-31  36970\n",
       "3   2005-04-30  38963\n",
       "4   2005-05-31  40572\n",
       "..         ...    ...\n",
       "140 2016-09-30  23235\n",
       "141 2016-10-31  23314\n",
       "142 2016-11-30  21140\n",
       "143 2016-12-31  19580\n",
       "144 2017-01-31  11357\n",
       "\n",
       "[145 rows x 2 columns]"
      ]
     },
     "execution_count": 33,
     "metadata": {},
     "output_type": "execute_result"
    }
   ],
   "source": [
    "data_prophet"
   ]
  },
  {
   "cell_type": "code",
   "execution_count": 34,
   "metadata": {},
   "outputs": [],
   "source": [
    "data_prophet.columns = ['Date', 'Crime Count']"
   ]
  },
  {
   "cell_type": "code",
   "execution_count": 36,
   "metadata": {},
   "outputs": [
    {
     "data": {
      "text/html": [
       "<div>\n",
       "<style scoped>\n",
       "    .dataframe tbody tr th:only-of-type {\n",
       "        vertical-align: middle;\n",
       "    }\n",
       "\n",
       "    .dataframe tbody tr th {\n",
       "        vertical-align: top;\n",
       "    }\n",
       "\n",
       "    .dataframe thead th {\n",
       "        text-align: right;\n",
       "    }\n",
       "</style>\n",
       "<table border=\"1\" class=\"dataframe\">\n",
       "  <thead>\n",
       "    <tr style=\"text-align: right;\">\n",
       "      <th></th>\n",
       "      <th>Date</th>\n",
       "      <th>Crime Count</th>\n",
       "    </tr>\n",
       "  </thead>\n",
       "  <tbody>\n",
       "    <tr>\n",
       "      <th>0</th>\n",
       "      <td>2005-01-31</td>\n",
       "      <td>33983</td>\n",
       "    </tr>\n",
       "    <tr>\n",
       "      <th>1</th>\n",
       "      <td>2005-02-28</td>\n",
       "      <td>32042</td>\n",
       "    </tr>\n",
       "    <tr>\n",
       "      <th>2</th>\n",
       "      <td>2005-03-31</td>\n",
       "      <td>36970</td>\n",
       "    </tr>\n",
       "    <tr>\n",
       "      <th>3</th>\n",
       "      <td>2005-04-30</td>\n",
       "      <td>38963</td>\n",
       "    </tr>\n",
       "    <tr>\n",
       "      <th>4</th>\n",
       "      <td>2005-05-31</td>\n",
       "      <td>40572</td>\n",
       "    </tr>\n",
       "    <tr>\n",
       "      <th>...</th>\n",
       "      <td>...</td>\n",
       "      <td>...</td>\n",
       "    </tr>\n",
       "    <tr>\n",
       "      <th>140</th>\n",
       "      <td>2016-09-30</td>\n",
       "      <td>23235</td>\n",
       "    </tr>\n",
       "    <tr>\n",
       "      <th>141</th>\n",
       "      <td>2016-10-31</td>\n",
       "      <td>23314</td>\n",
       "    </tr>\n",
       "    <tr>\n",
       "      <th>142</th>\n",
       "      <td>2016-11-30</td>\n",
       "      <td>21140</td>\n",
       "    </tr>\n",
       "    <tr>\n",
       "      <th>143</th>\n",
       "      <td>2016-12-31</td>\n",
       "      <td>19580</td>\n",
       "    </tr>\n",
       "    <tr>\n",
       "      <th>144</th>\n",
       "      <td>2017-01-31</td>\n",
       "      <td>11357</td>\n",
       "    </tr>\n",
       "  </tbody>\n",
       "</table>\n",
       "<p>145 rows × 2 columns</p>\n",
       "</div>"
      ],
      "text/plain": [
       "          Date  Crime Count\n",
       "0   2005-01-31        33983\n",
       "1   2005-02-28        32042\n",
       "2   2005-03-31        36970\n",
       "3   2005-04-30        38963\n",
       "4   2005-05-31        40572\n",
       "..         ...          ...\n",
       "140 2016-09-30        23235\n",
       "141 2016-10-31        23314\n",
       "142 2016-11-30        21140\n",
       "143 2016-12-31        19580\n",
       "144 2017-01-31        11357\n",
       "\n",
       "[145 rows x 2 columns]"
      ]
     },
     "execution_count": 36,
     "metadata": {},
     "output_type": "execute_result"
    }
   ],
   "source": [
    "data_prophet"
   ]
  },
  {
   "cell_type": "code",
   "execution_count": 37,
   "metadata": {},
   "outputs": [],
   "source": [
    "data_prophet_final = data_prophet.rename(columns = {'Date':'ds','Crime Count':'y'})"
   ]
  },
  {
   "cell_type": "code",
   "execution_count": 38,
   "metadata": {},
   "outputs": [
    {
     "data": {
      "text/html": [
       "<div>\n",
       "<style scoped>\n",
       "    .dataframe tbody tr th:only-of-type {\n",
       "        vertical-align: middle;\n",
       "    }\n",
       "\n",
       "    .dataframe tbody tr th {\n",
       "        vertical-align: top;\n",
       "    }\n",
       "\n",
       "    .dataframe thead th {\n",
       "        text-align: right;\n",
       "    }\n",
       "</style>\n",
       "<table border=\"1\" class=\"dataframe\">\n",
       "  <thead>\n",
       "    <tr style=\"text-align: right;\">\n",
       "      <th></th>\n",
       "      <th>ds</th>\n",
       "      <th>y</th>\n",
       "    </tr>\n",
       "  </thead>\n",
       "  <tbody>\n",
       "    <tr>\n",
       "      <th>0</th>\n",
       "      <td>2005-01-31</td>\n",
       "      <td>33983</td>\n",
       "    </tr>\n",
       "    <tr>\n",
       "      <th>1</th>\n",
       "      <td>2005-02-28</td>\n",
       "      <td>32042</td>\n",
       "    </tr>\n",
       "    <tr>\n",
       "      <th>2</th>\n",
       "      <td>2005-03-31</td>\n",
       "      <td>36970</td>\n",
       "    </tr>\n",
       "    <tr>\n",
       "      <th>3</th>\n",
       "      <td>2005-04-30</td>\n",
       "      <td>38963</td>\n",
       "    </tr>\n",
       "    <tr>\n",
       "      <th>4</th>\n",
       "      <td>2005-05-31</td>\n",
       "      <td>40572</td>\n",
       "    </tr>\n",
       "    <tr>\n",
       "      <th>...</th>\n",
       "      <td>...</td>\n",
       "      <td>...</td>\n",
       "    </tr>\n",
       "    <tr>\n",
       "      <th>140</th>\n",
       "      <td>2016-09-30</td>\n",
       "      <td>23235</td>\n",
       "    </tr>\n",
       "    <tr>\n",
       "      <th>141</th>\n",
       "      <td>2016-10-31</td>\n",
       "      <td>23314</td>\n",
       "    </tr>\n",
       "    <tr>\n",
       "      <th>142</th>\n",
       "      <td>2016-11-30</td>\n",
       "      <td>21140</td>\n",
       "    </tr>\n",
       "    <tr>\n",
       "      <th>143</th>\n",
       "      <td>2016-12-31</td>\n",
       "      <td>19580</td>\n",
       "    </tr>\n",
       "    <tr>\n",
       "      <th>144</th>\n",
       "      <td>2017-01-31</td>\n",
       "      <td>11357</td>\n",
       "    </tr>\n",
       "  </tbody>\n",
       "</table>\n",
       "<p>145 rows × 2 columns</p>\n",
       "</div>"
      ],
      "text/plain": [
       "            ds      y\n",
       "0   2005-01-31  33983\n",
       "1   2005-02-28  32042\n",
       "2   2005-03-31  36970\n",
       "3   2005-04-30  38963\n",
       "4   2005-05-31  40572\n",
       "..         ...    ...\n",
       "140 2016-09-30  23235\n",
       "141 2016-10-31  23314\n",
       "142 2016-11-30  21140\n",
       "143 2016-12-31  19580\n",
       "144 2017-01-31  11357\n",
       "\n",
       "[145 rows x 2 columns]"
      ]
     },
     "execution_count": 38,
     "metadata": {},
     "output_type": "execute_result"
    }
   ],
   "source": [
    "data_prophet_final"
   ]
  },
  {
   "cell_type": "code",
   "execution_count": 39,
   "metadata": {},
   "outputs": [
    {
     "name": "stderr",
     "output_type": "stream",
     "text": [
      "INFO:fbprophet:Disabling weekly seasonality. Run prophet with weekly_seasonality=True to override this.\n",
      "INFO:fbprophet:Disabling daily seasonality. Run prophet with daily_seasonality=True to override this.\n"
     ]
    },
    {
     "data": {
      "text/plain": [
       "<fbprophet.forecaster.Prophet at 0x1f9c3713508>"
      ]
     },
     "execution_count": 39,
     "metadata": {},
     "output_type": "execute_result"
    }
   ],
   "source": [
    "m = Prophet()\n",
    "m.fit(data_prophet_final)"
   ]
  },
  {
   "cell_type": "code",
   "execution_count": 44,
   "metadata": {},
   "outputs": [],
   "source": [
    "future = m.make_future_dataframe( periods = 365*2 )\n",
    "forecast = m.predict(future)"
   ]
  },
  {
   "cell_type": "code",
   "execution_count": 45,
   "metadata": {},
   "outputs": [
    {
     "data": {
      "text/html": [
       "<div>\n",
       "<style scoped>\n",
       "    .dataframe tbody tr th:only-of-type {\n",
       "        vertical-align: middle;\n",
       "    }\n",
       "\n",
       "    .dataframe tbody tr th {\n",
       "        vertical-align: top;\n",
       "    }\n",
       "\n",
       "    .dataframe thead th {\n",
       "        text-align: right;\n",
       "    }\n",
       "</style>\n",
       "<table border=\"1\" class=\"dataframe\">\n",
       "  <thead>\n",
       "    <tr style=\"text-align: right;\">\n",
       "      <th></th>\n",
       "      <th>ds</th>\n",
       "      <th>trend</th>\n",
       "      <th>yhat_lower</th>\n",
       "      <th>yhat_upper</th>\n",
       "      <th>trend_lower</th>\n",
       "      <th>trend_upper</th>\n",
       "      <th>additive_terms</th>\n",
       "      <th>additive_terms_lower</th>\n",
       "      <th>additive_terms_upper</th>\n",
       "      <th>yearly</th>\n",
       "      <th>yearly_lower</th>\n",
       "      <th>yearly_upper</th>\n",
       "      <th>multiplicative_terms</th>\n",
       "      <th>multiplicative_terms_lower</th>\n",
       "      <th>multiplicative_terms_upper</th>\n",
       "      <th>yhat</th>\n",
       "    </tr>\n",
       "  </thead>\n",
       "  <tbody>\n",
       "    <tr>\n",
       "      <th>0</th>\n",
       "      <td>2005-01-31</td>\n",
       "      <td>60454.773642</td>\n",
       "      <td>38845.231778</td>\n",
       "      <td>71878.397996</td>\n",
       "      <td>60454.773642</td>\n",
       "      <td>60454.773642</td>\n",
       "      <td>-4762.404217</td>\n",
       "      <td>-4762.404217</td>\n",
       "      <td>-4762.404217</td>\n",
       "      <td>-4762.404217</td>\n",
       "      <td>-4762.404217</td>\n",
       "      <td>-4762.404217</td>\n",
       "      <td>0.0</td>\n",
       "      <td>0.0</td>\n",
       "      <td>0.0</td>\n",
       "      <td>55692.369426</td>\n",
       "    </tr>\n",
       "    <tr>\n",
       "      <th>1</th>\n",
       "      <td>2005-02-28</td>\n",
       "      <td>60322.370911</td>\n",
       "      <td>33615.174148</td>\n",
       "      <td>67718.034579</td>\n",
       "      <td>60322.370911</td>\n",
       "      <td>60322.370911</td>\n",
       "      <td>-9500.516358</td>\n",
       "      <td>-9500.516358</td>\n",
       "      <td>-9500.516358</td>\n",
       "      <td>-9500.516358</td>\n",
       "      <td>-9500.516358</td>\n",
       "      <td>-9500.516358</td>\n",
       "      <td>0.0</td>\n",
       "      <td>0.0</td>\n",
       "      <td>0.0</td>\n",
       "      <td>50821.854553</td>\n",
       "    </tr>\n",
       "    <tr>\n",
       "      <th>2</th>\n",
       "      <td>2005-03-31</td>\n",
       "      <td>60175.782173</td>\n",
       "      <td>42064.271347</td>\n",
       "      <td>75796.461694</td>\n",
       "      <td>60175.782173</td>\n",
       "      <td>60175.782173</td>\n",
       "      <td>-1224.151952</td>\n",
       "      <td>-1224.151952</td>\n",
       "      <td>-1224.151952</td>\n",
       "      <td>-1224.151952</td>\n",
       "      <td>-1224.151952</td>\n",
       "      <td>-1224.151952</td>\n",
       "      <td>0.0</td>\n",
       "      <td>0.0</td>\n",
       "      <td>0.0</td>\n",
       "      <td>58951.630221</td>\n",
       "    </tr>\n",
       "    <tr>\n",
       "      <th>3</th>\n",
       "      <td>2005-04-30</td>\n",
       "      <td>60033.922104</td>\n",
       "      <td>44740.434544</td>\n",
       "      <td>77846.419685</td>\n",
       "      <td>60033.922104</td>\n",
       "      <td>60033.922104</td>\n",
       "      <td>1182.829000</td>\n",
       "      <td>1182.829000</td>\n",
       "      <td>1182.829000</td>\n",
       "      <td>1182.829000</td>\n",
       "      <td>1182.829000</td>\n",
       "      <td>1182.829000</td>\n",
       "      <td>0.0</td>\n",
       "      <td>0.0</td>\n",
       "      <td>0.0</td>\n",
       "      <td>61216.751104</td>\n",
       "    </tr>\n",
       "    <tr>\n",
       "      <th>4</th>\n",
       "      <td>2005-05-31</td>\n",
       "      <td>59887.333366</td>\n",
       "      <td>47233.533114</td>\n",
       "      <td>82575.144870</td>\n",
       "      <td>59887.333366</td>\n",
       "      <td>59887.333366</td>\n",
       "      <td>5498.247964</td>\n",
       "      <td>5498.247964</td>\n",
       "      <td>5498.247964</td>\n",
       "      <td>5498.247964</td>\n",
       "      <td>5498.247964</td>\n",
       "      <td>5498.247964</td>\n",
       "      <td>0.0</td>\n",
       "      <td>0.0</td>\n",
       "      <td>0.0</td>\n",
       "      <td>65385.581330</td>\n",
       "    </tr>\n",
       "    <tr>\n",
       "      <th>...</th>\n",
       "      <td>...</td>\n",
       "      <td>...</td>\n",
       "      <td>...</td>\n",
       "      <td>...</td>\n",
       "      <td>...</td>\n",
       "      <td>...</td>\n",
       "      <td>...</td>\n",
       "      <td>...</td>\n",
       "      <td>...</td>\n",
       "      <td>...</td>\n",
       "      <td>...</td>\n",
       "      <td>...</td>\n",
       "      <td>...</td>\n",
       "      <td>...</td>\n",
       "      <td>...</td>\n",
       "      <td>...</td>\n",
       "    </tr>\n",
       "    <tr>\n",
       "      <th>870</th>\n",
       "      <td>2019-01-27</td>\n",
       "      <td>5334.810827</td>\n",
       "      <td>-16605.866487</td>\n",
       "      <td>18041.540543</td>\n",
       "      <td>4857.666128</td>\n",
       "      <td>5832.277494</td>\n",
       "      <td>-4991.562318</td>\n",
       "      <td>-4991.562318</td>\n",
       "      <td>-4991.562318</td>\n",
       "      <td>-4991.562318</td>\n",
       "      <td>-4991.562318</td>\n",
       "      <td>-4991.562318</td>\n",
       "      <td>0.0</td>\n",
       "      <td>0.0</td>\n",
       "      <td>0.0</td>\n",
       "      <td>343.248509</td>\n",
       "    </tr>\n",
       "    <tr>\n",
       "      <th>871</th>\n",
       "      <td>2019-01-28</td>\n",
       "      <td>5321.744153</td>\n",
       "      <td>-17106.063241</td>\n",
       "      <td>16467.610673</td>\n",
       "      <td>4843.707700</td>\n",
       "      <td>5820.667276</td>\n",
       "      <td>-4936.449901</td>\n",
       "      <td>-4936.449901</td>\n",
       "      <td>-4936.449901</td>\n",
       "      <td>-4936.449901</td>\n",
       "      <td>-4936.449901</td>\n",
       "      <td>-4936.449901</td>\n",
       "      <td>0.0</td>\n",
       "      <td>0.0</td>\n",
       "      <td>0.0</td>\n",
       "      <td>385.294252</td>\n",
       "    </tr>\n",
       "    <tr>\n",
       "      <th>872</th>\n",
       "      <td>2019-01-29</td>\n",
       "      <td>5308.677480</td>\n",
       "      <td>-16698.420132</td>\n",
       "      <td>16298.053165</td>\n",
       "      <td>4829.749272</td>\n",
       "      <td>5808.838352</td>\n",
       "      <td>-4881.351476</td>\n",
       "      <td>-4881.351476</td>\n",
       "      <td>-4881.351476</td>\n",
       "      <td>-4881.351476</td>\n",
       "      <td>-4881.351476</td>\n",
       "      <td>-4881.351476</td>\n",
       "      <td>0.0</td>\n",
       "      <td>0.0</td>\n",
       "      <td>0.0</td>\n",
       "      <td>427.326004</td>\n",
       "    </tr>\n",
       "    <tr>\n",
       "      <th>873</th>\n",
       "      <td>2019-01-30</td>\n",
       "      <td>5295.610806</td>\n",
       "      <td>-16745.381165</td>\n",
       "      <td>17326.779024</td>\n",
       "      <td>4816.184522</td>\n",
       "      <td>5796.873118</td>\n",
       "      <td>-4829.021222</td>\n",
       "      <td>-4829.021222</td>\n",
       "      <td>-4829.021222</td>\n",
       "      <td>-4829.021222</td>\n",
       "      <td>-4829.021222</td>\n",
       "      <td>-4829.021222</td>\n",
       "      <td>0.0</td>\n",
       "      <td>0.0</td>\n",
       "      <td>0.0</td>\n",
       "      <td>466.589585</td>\n",
       "    </tr>\n",
       "    <tr>\n",
       "      <th>874</th>\n",
       "      <td>2019-01-31</td>\n",
       "      <td>5282.544133</td>\n",
       "      <td>-15356.641426</td>\n",
       "      <td>17691.036704</td>\n",
       "      <td>4802.657376</td>\n",
       "      <td>5784.881323</td>\n",
       "      <td>-4782.491825</td>\n",
       "      <td>-4782.491825</td>\n",
       "      <td>-4782.491825</td>\n",
       "      <td>-4782.491825</td>\n",
       "      <td>-4782.491825</td>\n",
       "      <td>-4782.491825</td>\n",
       "      <td>0.0</td>\n",
       "      <td>0.0</td>\n",
       "      <td>0.0</td>\n",
       "      <td>500.052307</td>\n",
       "    </tr>\n",
       "  </tbody>\n",
       "</table>\n",
       "<p>875 rows × 16 columns</p>\n",
       "</div>"
      ],
      "text/plain": [
       "            ds         trend    yhat_lower    yhat_upper   trend_lower  \\\n",
       "0   2005-01-31  60454.773642  38845.231778  71878.397996  60454.773642   \n",
       "1   2005-02-28  60322.370911  33615.174148  67718.034579  60322.370911   \n",
       "2   2005-03-31  60175.782173  42064.271347  75796.461694  60175.782173   \n",
       "3   2005-04-30  60033.922104  44740.434544  77846.419685  60033.922104   \n",
       "4   2005-05-31  59887.333366  47233.533114  82575.144870  59887.333366   \n",
       "..         ...           ...           ...           ...           ...   \n",
       "870 2019-01-27   5334.810827 -16605.866487  18041.540543   4857.666128   \n",
       "871 2019-01-28   5321.744153 -17106.063241  16467.610673   4843.707700   \n",
       "872 2019-01-29   5308.677480 -16698.420132  16298.053165   4829.749272   \n",
       "873 2019-01-30   5295.610806 -16745.381165  17326.779024   4816.184522   \n",
       "874 2019-01-31   5282.544133 -15356.641426  17691.036704   4802.657376   \n",
       "\n",
       "      trend_upper  additive_terms  additive_terms_lower  additive_terms_upper  \\\n",
       "0    60454.773642    -4762.404217          -4762.404217          -4762.404217   \n",
       "1    60322.370911    -9500.516358          -9500.516358          -9500.516358   \n",
       "2    60175.782173    -1224.151952          -1224.151952          -1224.151952   \n",
       "3    60033.922104     1182.829000           1182.829000           1182.829000   \n",
       "4    59887.333366     5498.247964           5498.247964           5498.247964   \n",
       "..            ...             ...                   ...                   ...   \n",
       "870   5832.277494    -4991.562318          -4991.562318          -4991.562318   \n",
       "871   5820.667276    -4936.449901          -4936.449901          -4936.449901   \n",
       "872   5808.838352    -4881.351476          -4881.351476          -4881.351476   \n",
       "873   5796.873118    -4829.021222          -4829.021222          -4829.021222   \n",
       "874   5784.881323    -4782.491825          -4782.491825          -4782.491825   \n",
       "\n",
       "          yearly  yearly_lower  yearly_upper  multiplicative_terms  \\\n",
       "0   -4762.404217  -4762.404217  -4762.404217                   0.0   \n",
       "1   -9500.516358  -9500.516358  -9500.516358                   0.0   \n",
       "2   -1224.151952  -1224.151952  -1224.151952                   0.0   \n",
       "3    1182.829000   1182.829000   1182.829000                   0.0   \n",
       "4    5498.247964   5498.247964   5498.247964                   0.0   \n",
       "..           ...           ...           ...                   ...   \n",
       "870 -4991.562318  -4991.562318  -4991.562318                   0.0   \n",
       "871 -4936.449901  -4936.449901  -4936.449901                   0.0   \n",
       "872 -4881.351476  -4881.351476  -4881.351476                   0.0   \n",
       "873 -4829.021222  -4829.021222  -4829.021222                   0.0   \n",
       "874 -4782.491825  -4782.491825  -4782.491825                   0.0   \n",
       "\n",
       "     multiplicative_terms_lower  multiplicative_terms_upper          yhat  \n",
       "0                           0.0                         0.0  55692.369426  \n",
       "1                           0.0                         0.0  50821.854553  \n",
       "2                           0.0                         0.0  58951.630221  \n",
       "3                           0.0                         0.0  61216.751104  \n",
       "4                           0.0                         0.0  65385.581330  \n",
       "..                          ...                         ...           ...  \n",
       "870                         0.0                         0.0    343.248509  \n",
       "871                         0.0                         0.0    385.294252  \n",
       "872                         0.0                         0.0    427.326004  \n",
       "873                         0.0                         0.0    466.589585  \n",
       "874                         0.0                         0.0    500.052307  \n",
       "\n",
       "[875 rows x 16 columns]"
      ]
     },
     "execution_count": 45,
     "metadata": {},
     "output_type": "execute_result"
    }
   ],
   "source": [
    "forecast"
   ]
  },
  {
   "cell_type": "code",
   "execution_count": 46,
   "metadata": {},
   "outputs": [
    {
     "data": {
      "image/png": "[encoded data removed]",
      "text/plain": [
       "<Figure size 720x432 with 1 Axes>"
      ]
     },
     "metadata": {},
     "output_type": "display_data"
    }
   ],
   "source": [
    "figure = m.plot(forecast, xlabel = 'Date', ylabel = 'Crime Rate')"
   ]
  },
  {
   "cell_type": "code",
   "execution_count": 43,
   "metadata": {},
   "outputs": [
    {
     "data": {
      "image/png": "[encoded data removed]",
      "text/plain": [
       "<Figure size 648x432 with 2 Axes>"
      ]
     },
     "metadata": {},
     "output_type": "display_data"
    }
   ],
   "source": [
    "figure = m.plot_components(forecast)"
   ]
  },
  {
   "cell_type": "code",
   "execution_count": null,
   "metadata": {},
   "outputs": [],
   "source": []
  }
 ],
 "metadata": {
  "kernelspec": {
   "display_name": "Python 3",
   "language": "python",
   "name": "python3"
  },
  "language_info": {
   "codemirror_mode": {
    "name": "ipython",
    "version": 3
   },
   "file_extension": ".py",
   "mimetype": "text/x-python",
   "name": "python",
   "nbconvert_exporter": "python",
   "pygments_lexer": "ipython3",
   "version": "3.7.5"
  }
 },
 "nbformat": 4,
 "nbformat_minor": 2
}
