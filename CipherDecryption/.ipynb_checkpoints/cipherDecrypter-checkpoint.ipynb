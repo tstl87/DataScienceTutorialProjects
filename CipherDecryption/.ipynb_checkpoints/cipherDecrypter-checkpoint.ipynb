{
 "cells": [
  {
   "cell_type": "code",
   "execution_count": 1,
   "metadata": {
    "colab": {},
    "colab_type": "code",
    "id": "5XgKTMRwUHu6"
   },
   "outputs": [],
   "source": [
    "# https://deeplearningcourses.com/c/data-science-natural-language-processing-in-python\n",
    "# https://www.udemy.com/data-science-natural-language-processing-in-python\n",
    "\n",
    "# Author: http://lazyprogrammer.me\n",
    "\n",
    "import numpy as np\n",
    "import matplotlib.pyplot as plt\n",
    "\n",
    "import string\n",
    "import random\n",
    "import re\n",
    "import requests\n",
    "import os\n",
    "import textwrap"
   ]
  },
  {
   "cell_type": "code",
   "execution_count": 2,
   "metadata": {
    "colab": {},
    "colab_type": "code",
    "id": "zMrtqw5DUNp3"
   },
   "outputs": [],
   "source": [
    "### create substitution cipher\n",
    "\n",
    "# one will act as the key, other as the value\n",
    "letters1 = list(string.ascii_lowercase)\n",
    "letters2 = list(string.ascii_lowercase)\n",
    "\n",
    "true_mapping = {}\n",
    "\n",
    "# shuffle second set of letters\n",
    "random.shuffle(letters2)\n",
    "\n",
    "# populate map\n",
    "for k, v in zip(letters1, letters2):\n",
    "  true_mapping[k] = v"
   ]
  },
  {
   "cell_type": "code",
   "execution_count": 3,
   "metadata": {
    "colab": {},
    "colab_type": "code",
    "id": "IyAGzd5iUQ_W"
   },
   "outputs": [],
   "source": [
    "### the language model\n",
    "\n",
    "# initialize the trigram Markov matrix\n",
    "tri = np.ones((26,26,26))\n",
    "\n",
    "# initialize bigram Markov matrix\n",
    "bi = np.ones((26, 26))\n",
    "\n",
    "# initial state distribution\n",
    "pi = np.zeros(26)\n",
    "\n",
    "# a function to update the trigram Markov matrix\n",
    "def update_tri_transition(ch1, ch2, ch3):\n",
    "  # ord('a') = 97, ord('b') = 98, ...\n",
    "  i = ord(ch1) - 97\n",
    "  j = ord(ch2) - 97\n",
    "  k = ord(ch3) - 97\n",
    "  tri[i,j,k] += 1\n",
    "    \n",
    "# a function to update the bigram Markov matrix\n",
    "def update_transition(ch1, ch2):\n",
    "  # ord('a') = 97, ord('b') = 98, ...\n",
    "  i = ord(ch1) - 97\n",
    "  j = ord(ch2) - 97\n",
    "  bi[i,j] += 1\n",
    "\n",
    "# a function to update the initial state distribution\n",
    "def update_pi(ch):\n",
    "  i = ord(ch) - 97\n",
    "  pi[i] += 1\n",
    "\n",
    "# get the log-probability of a word / token\n",
    "def get_word_prob(word):\n",
    "  # print(\"word:\", word)\n",
    "  i = ord(word[0]) - 97\n",
    "  logp = np.log(pi[i])\n",
    "\n",
    "  if len(word) > 1:\n",
    "    ch = word[1]\n",
    "    j = ord(ch) - 97\n",
    "    logp += np.log(bi[i,j])\n",
    "\n",
    "    for ch in word[2:]:\n",
    "      k = ord(ch) - 97\n",
    "      logp += np.log(tri[i, j,k]) # update prob\n",
    "      i = j # update i\n",
    "      j = k # update j\n",
    "\n",
    "  return logp\n",
    "\n",
    "# get the probability of a sequence of words\n",
    "def get_sequence_prob(words):\n",
    "  # if input is a string, split into an array of tokens\n",
    "  if type(words) == str:\n",
    "    words = words.split()\n",
    "\n",
    "  logp = 0\n",
    "  for word in words:\n",
    "    logp += get_word_prob(word)\n",
    "  return logp"
   ]
  },
  {
   "cell_type": "code",
   "execution_count": 4,
   "metadata": {
    "colab": {},
    "colab_type": "code",
    "id": "sEUrJ4J_UU-w"
   },
   "outputs": [],
   "source": [
    "### create a markov model based on an English dataset\n",
    "# is an edit of https://www.gutenberg.org/ebooks/2701\n",
    "# (I removed the front and back matter)\n",
    "\n",
    "# download the file\n",
    "if not os.path.exists('moby_dick.txt'):\n",
    "  print(\"Downloading moby dick...\")\n",
    "  r = requests.get('https://lazyprogrammer.me/course_files/moby_dick.txt')\n",
    "  with open('moby_dick.txt', 'w', encoding=\"utf-8\") as f:\n",
    "    f.write(r.content.decode())"
   ]
  },
  {
   "cell_type": "code",
   "execution_count": 5,
   "metadata": {
    "colab": {},
    "colab_type": "code",
    "id": "PxacIxtyUZFd"
   },
   "outputs": [],
   "source": [
    "# for replacing non-alpha characters\n",
    "regex = re.compile('[^a-zA-Z]')\n",
    "\n",
    "# load in words\n",
    "for line in open('moby_dick.txt', encoding=\"utf8\"):\n",
    "  line = line.rstrip()\n",
    "\n",
    "  # there are blank lines in the file\n",
    "  if line:\n",
    "    line = regex.sub(' ', line) # replace all non-alpha characters with space\n",
    "\n",
    "    # split the tokens in the line and lowercase\n",
    "    tokens = line.lower().split()\n",
    "\n",
    "    for token in tokens:\n",
    "      # update the model\n",
    "\n",
    "      # first letter\n",
    "      ch0 = token[0]\n",
    "      update_pi(ch0)\n",
    "        \n",
    "      # second letter\n",
    "      if len(token) > 1:\n",
    "        ch1 = token[1]\n",
    "        update_transition(ch0,ch1)\n",
    "\n",
    "        # other letters\n",
    "        for ch2 in token[2:]:\n",
    "          update_tri_transition(ch0, ch1, ch2)\n",
    "          ch0 = ch1\n",
    "          ch1 = ch2\n",
    "\n",
    "# normalize the probabilities\n",
    "pi /= pi.sum()\n",
    "bi /= bi.sum(axis=1, keepdims=True)\n",
    "tri /= tri.sum(axis=(1,2), keepdims = True)"
   ]
  },
  {
   "cell_type": "code",
   "execution_count": 12,
   "metadata": {
    "colab": {},
    "colab_type": "code",
    "id": "3FxNj6V2UdM3"
   },
   "outputs": [],
   "source": [
    "### encode a message\n",
    "\n",
    "# this is a random excerpt from Project Gutenberg's\n",
    "# The Adventures of Sherlock Holmes, by Arthur Conan Doyle\n",
    "# https://www.gutenberg.org/ebooks/1661\n",
    "\n",
    "original_message = '''I then lounged down the street and found,\n",
    "as I expected, that there was a mews in a lane which runs down\n",
    "by one wall of the garden. I lent the ostlers a hand in rubbing\n",
    "down their horses, and received in exchange twopence, a glass of\n",
    "half-and-half, two fills of shag tobacco, and as much information\n",
    "as I could desire about Miss Adler, to say nothing of half a dozen\n",
    "other people in the neighbourhood in whom I was not in the least\n",
    "interested, but whose biographies I was compelled to listen to. \n",
    "Away they went, and I was just wondering whether I should not do well\n",
    "to follow them when up the lane came a neat little landau, the coachman\n",
    "with his coat only half-buttoned, and his tie under his ear, while all\n",
    "the tags of his harness were sticking out of the buckles. It hadn't\n",
    "pulled up before she shot out of the hall door and into it. I only\n",
    "caught a glimpse of her at the moment, but she was a lovely woman, with\n",
    "a face that a man might die for.\n",
    "My cabby drove fast. I don't think I ever drove faster, but the others\n",
    "were there before us. The cab and the landau with their steaming horses\n",
    "were in front of the door when I arrived. I paid the man and hurried\n",
    "into the church. There was not a soul there save the two whom I had\n",
    "followed and a surpliced clergyman, who seemed to be expostulating with\n",
    "them. They were all three standing in a knot in front of the altar. I\n",
    "lounged up the side aisle like any other idler who has dropped into a\n",
    "church. Suddenly, to my surprise, the three at the altar faced round to\n",
    "me, and Godfrey Norton came running as hard as he could towards me.\n",
    "'''"
   ]
  },
  {
   "cell_type": "code",
   "execution_count": null,
   "metadata": {},
   "outputs": [],
   "source": [
    "msg = original_message\n",
    "# downcase\n",
    "msg = msg.lower()\n",
    "    \n",
    "print(' ')\n",
    "print(msg)\n",
    "print(' ')\n",
    "print('type = ', type(msg))\n",
    "print(' ')\n",
    "\n",
    "# replace non-alpha characters\n",
    "msg = regex.sub(' ', msg)\n",
    "\n",
    "# make the encoded message\n",
    "coded_msg = []\n",
    "for ch in msg:\n",
    "  coded_ch = ch # could just be a space\n",
    "  if ch in true_mapping:\n",
    "    coded_ch = true_mapping[ch]\n",
    "  coded_msg.append(coded_ch)"
   ]
  },
  {
   "cell_type": "code",
   "execution_count": 7,
   "metadata": {
    "colab": {},
    "colab_type": "code",
    "id": "LRuQ15YJUgDm"
   },
   "outputs": [
    {
     "name": "stdout",
     "output_type": "stream",
     "text": [
      " \n",
      "i then lounged down the street and found,\n",
      "as i expected, that there was a mews in a lane which runs down\n",
      "by one wall of the garden. i lent the ostlers a hand in rubbing\n",
      "down their horses, and received in exchange twopence, a glass of\n",
      "half-and-half, two fills of shag tobacco, and as much information\n",
      "as i could desire about miss adler, to say nothing of half a dozen\n",
      "other people in the neighbourhood in whom i was not in the least\n",
      "interested, but whose biographies i was compelled to listen to. \n",
      "away they went, and i was just wondering whether i should not do well\n",
      "to follow them when up the lane came a neat little landau, the coachman\n",
      "with his coat only half-buttoned, and his tie under his ear, while all\n",
      "the tags of his harness were sticking out of the buckles. it hadn't\n",
      "pulled up before she shot out of the hall door and into it. i only\n",
      "caught a glimpse of her at the moment, but she was a lovely woman, with\n",
      "a face that a man might die for.\n",
      "my cabby drove fast. i don't think i ever drove faster, but the others\n",
      "were there before us. the cab and the landau with their steaming horses\n",
      "were in front of the door when i arrived. i paid the man and hurried\n",
      "into the church. there was not a soul there save the two whom i had\n",
      "followed and a surpliced clergyman, who seemed to be expostulating with\n",
      "them. they were all three standing in a knot in front of the altar. i\n",
      "lounged up the side aisle like any other idler who has dropped into a\n",
      "church. suddenly, to my surprise, the three at the altar faced round to\n",
      "me, and godfrey norton came running as hard as he could towards me.\n",
      "\n",
      " \n",
      "type =  <class 'str'>\n",
      " \n"
     ]
    }
   ],
   "source": [
    "# a function to encode a message\n",
    "def encode_message(msg):\n",
    "  # downcase\n",
    "  msg = msg.lower()\n",
    "    \n",
    "  print(' ')\n",
    "  print(msg)\n",
    "  print(' ')\n",
    "  print('type = ', type(msg))\n",
    "  print(' ')\n",
    "\n",
    "  # replace non-alpha characters\n",
    "  msg = regex.sub(' ', msg)\n",
    "\n",
    "  # make the encoded message\n",
    "  coded_msg = []\n",
    "  for ch in msg:\n",
    "    coded_ch = ch # could just be a space\n",
    "    if ch in true_mapping:\n",
    "      coded_ch = true_mapping[ch]\n",
    "    coded_msg.append(coded_ch)\n",
    "\n",
    "  return ''.join(coded_msg)\n",
    "\n",
    "\n",
    "encoded_message = encode_message(original_message)\n",
    "\n",
    "\n",
    "# a function to decode a message\n",
    "def decode_message(msg, word_map):\n",
    "  decoded_msg = []\n",
    "  for ch in msg:\n",
    "    decoded_ch = ch # could just be a space\n",
    "    if ch in word_map:\n",
    "      decoded_ch = word_map[ch]\n",
    "    decoded_msg.append(decoded_ch)\n",
    "\n",
    "  return ''.join(decoded_msg)"
   ]
  },
  {
   "cell_type": "code",
   "execution_count": 8,
   "metadata": {
    "colab": {},
    "colab_type": "code",
    "id": "Ogy2tFp2UjEW"
   },
   "outputs": [],
   "source": [
    "### run an evolutionary algorithm to decode the message\n",
    "\n",
    "# this is our initialization point\n",
    "dna_pool = []\n",
    "for _ in range(20):\n",
    "  dna = list(string.ascii_lowercase)\n",
    "  random.shuffle(dna)\n",
    "  dna_pool.append(dna)"
   ]
  },
  {
   "cell_type": "code",
   "execution_count": 9,
   "metadata": {
    "colab": {},
    "colab_type": "code",
    "id": "rHjSLs-OU33M"
   },
   "outputs": [],
   "source": [
    "def evolve_offspring(dna_pool, n_children):\n",
    "  # make n_children per offspring\n",
    "  offspring = []\n",
    "\n",
    "  for dna in dna_pool:\n",
    "    for _ in range(n_children):\n",
    "      copy = dna.copy()\n",
    "      j = np.random.randint(len(copy))\n",
    "      k = np.random.randint(len(copy))\n",
    "\n",
    "      # switch\n",
    "      tmp = copy[j]\n",
    "      copy[j] = copy[k]\n",
    "      copy[k] = tmp\n",
    "      offspring.append(copy)\n",
    "\n",
    "  return offspring + dna_pool"
   ]
  },
  {
   "cell_type": "code",
   "execution_count": 10,
   "metadata": {
    "colab": {
     "base_uri": "https://localhost:8080/",
     "height": 102
    },
    "colab_type": "code",
    "id": "C6lnKzJkUnzn",
    "outputId": "e13c50fe-d20e-43ee-e8bb-c82ffe5bda85"
   },
   "outputs": [
    {
     "name": "stdout",
     "output_type": "stream",
     "text": [
      "iter: 0 score: -8727.348606497972 best so far: -8102.98347375685\n",
      "iter: 200 score: -4504.104682088994 best so far: -3849.1041860743344\n"
     ]
    },
    {
     "ename": "KeyboardInterrupt",
     "evalue": "",
     "output_type": "error",
     "traceback": [
      "\u001b[1;31m---------------------------------------------------------------------------\u001b[0m",
      "\u001b[1;31mKeyboardInterrupt\u001b[0m                         Traceback (most recent call last)",
      "\u001b[1;32m<ipython-input-10-18cf40a7d528>\u001b[0m in \u001b[0;36m<module>\u001b[1;34m\u001b[0m\n\u001b[0;32m     18\u001b[0m \u001b[1;33m\u001b[0m\u001b[0m\n\u001b[0;32m     19\u001b[0m     \u001b[0mdecoded_message\u001b[0m \u001b[1;33m=\u001b[0m \u001b[0mdecode_message\u001b[0m\u001b[1;33m(\u001b[0m\u001b[0mencoded_message\u001b[0m\u001b[1;33m,\u001b[0m \u001b[0mcurrent_map\u001b[0m\u001b[1;33m)\u001b[0m\u001b[1;33m\u001b[0m\u001b[1;33m\u001b[0m\u001b[0m\n\u001b[1;32m---> 20\u001b[1;33m     \u001b[0mscore\u001b[0m \u001b[1;33m=\u001b[0m \u001b[0mget_sequence_prob\u001b[0m\u001b[1;33m(\u001b[0m\u001b[0mdecoded_message\u001b[0m\u001b[1;33m)\u001b[0m\u001b[1;33m\u001b[0m\u001b[1;33m\u001b[0m\u001b[0m\n\u001b[0m\u001b[0;32m     21\u001b[0m \u001b[1;33m\u001b[0m\u001b[0m\n\u001b[0;32m     22\u001b[0m     \u001b[1;31m# store it\u001b[0m\u001b[1;33m\u001b[0m\u001b[1;33m\u001b[0m\u001b[1;33m\u001b[0m\u001b[0m\n",
      "\u001b[1;32m<ipython-input-3-b82d6c88c224>\u001b[0m in \u001b[0;36mget_sequence_prob\u001b[1;34m(words)\u001b[0m\n\u001b[0;32m     57\u001b[0m   \u001b[0mlogp\u001b[0m \u001b[1;33m=\u001b[0m \u001b[1;36m0\u001b[0m\u001b[1;33m\u001b[0m\u001b[1;33m\u001b[0m\u001b[0m\n\u001b[0;32m     58\u001b[0m   \u001b[1;32mfor\u001b[0m \u001b[0mword\u001b[0m \u001b[1;32min\u001b[0m \u001b[0mwords\u001b[0m\u001b[1;33m:\u001b[0m\u001b[1;33m\u001b[0m\u001b[1;33m\u001b[0m\u001b[0m\n\u001b[1;32m---> 59\u001b[1;33m     \u001b[0mlogp\u001b[0m \u001b[1;33m+=\u001b[0m \u001b[0mget_word_prob\u001b[0m\u001b[1;33m(\u001b[0m\u001b[0mword\u001b[0m\u001b[1;33m)\u001b[0m\u001b[1;33m\u001b[0m\u001b[1;33m\u001b[0m\u001b[0m\n\u001b[0m\u001b[0;32m     60\u001b[0m   \u001b[1;32mreturn\u001b[0m \u001b[0mlogp\u001b[0m\u001b[1;33m\u001b[0m\u001b[1;33m\u001b[0m\u001b[0m\n",
      "\u001b[1;32m<ipython-input-3-b82d6c88c224>\u001b[0m in \u001b[0;36mget_word_prob\u001b[1;34m(word)\u001b[0m\n\u001b[0;32m     43\u001b[0m     \u001b[1;32mfor\u001b[0m \u001b[0mch\u001b[0m \u001b[1;32min\u001b[0m \u001b[0mword\u001b[0m\u001b[1;33m[\u001b[0m\u001b[1;36m2\u001b[0m\u001b[1;33m:\u001b[0m\u001b[1;33m]\u001b[0m\u001b[1;33m:\u001b[0m\u001b[1;33m\u001b[0m\u001b[1;33m\u001b[0m\u001b[0m\n\u001b[0;32m     44\u001b[0m       \u001b[0mk\u001b[0m \u001b[1;33m=\u001b[0m \u001b[0mord\u001b[0m\u001b[1;33m(\u001b[0m\u001b[0mch\u001b[0m\u001b[1;33m)\u001b[0m \u001b[1;33m-\u001b[0m \u001b[1;36m97\u001b[0m\u001b[1;33m\u001b[0m\u001b[1;33m\u001b[0m\u001b[0m\n\u001b[1;32m---> 45\u001b[1;33m       \u001b[0mlogp\u001b[0m \u001b[1;33m+=\u001b[0m \u001b[0mnp\u001b[0m\u001b[1;33m.\u001b[0m\u001b[0mlog\u001b[0m\u001b[1;33m(\u001b[0m\u001b[0mtri\u001b[0m\u001b[1;33m[\u001b[0m\u001b[0mi\u001b[0m\u001b[1;33m,\u001b[0m \u001b[0mj\u001b[0m\u001b[1;33m,\u001b[0m\u001b[0mk\u001b[0m\u001b[1;33m]\u001b[0m\u001b[1;33m)\u001b[0m \u001b[1;31m# update prob\u001b[0m\u001b[1;33m\u001b[0m\u001b[1;33m\u001b[0m\u001b[0m\n\u001b[0m\u001b[0;32m     46\u001b[0m       \u001b[0mi\u001b[0m \u001b[1;33m=\u001b[0m \u001b[0mj\u001b[0m \u001b[1;31m# update i\u001b[0m\u001b[1;33m\u001b[0m\u001b[1;33m\u001b[0m\u001b[0m\n\u001b[0;32m     47\u001b[0m       \u001b[0mj\u001b[0m \u001b[1;33m=\u001b[0m \u001b[0mk\u001b[0m \u001b[1;31m# update j\u001b[0m\u001b[1;33m\u001b[0m\u001b[1;33m\u001b[0m\u001b[0m\n",
      "\u001b[1;31mKeyboardInterrupt\u001b[0m: "
     ]
    }
   ],
   "source": [
    "num_iters = 1001\n",
    "scores = np.zeros(num_iters)\n",
    "best_dna = None\n",
    "best_map = None\n",
    "best_score = float('-inf')\n",
    "for i in range(num_iters):\n",
    "  if i > 0:\n",
    "    # get offspring from the current dna pool\n",
    "    dna_pool = evolve_offspring(dna_pool, 6)\n",
    "\n",
    "  # calculate score for each dna\n",
    "  dna2score = {}\n",
    "  for dna in dna_pool:\n",
    "    # populate map\n",
    "    current_map = {}\n",
    "    for k, v in zip(letters1, dna):\n",
    "      current_map[k] = v\n",
    "\n",
    "    decoded_message = decode_message(encoded_message, current_map)\n",
    "    score = get_sequence_prob(decoded_message)\n",
    "\n",
    "    # store it\n",
    "    # needs to be a string to be a dict key\n",
    "    dna2score[''.join(dna)] = score\n",
    "\n",
    "    # record the best so far\n",
    "    if score > best_score:\n",
    "      best_dna = dna\n",
    "      best_map = current_map\n",
    "      best_score = score\n",
    "\n",
    "  # average score for this generation\n",
    "  scores[i] = np.mean(list(dna2score.values()))\n",
    "\n",
    "  # keep the best 5 dna\n",
    "  # also turn them back into list of single chars\n",
    "  sorted_dna = sorted(dna2score.items(), key=lambda x: x[1], reverse=True)\n",
    "  dna_pool = [list(k) for k, v in sorted_dna[:5]]\n",
    "\n",
    "  if i % 200 == 0:\n",
    "    print(\"iter:\", i, \"score:\", scores[i], \"best so far:\", best_score)\n"
   ]
  },
  {
   "cell_type": "code",
   "execution_count": null,
   "metadata": {
    "colab": {
     "base_uri": "https://localhost:8080/",
     "height": 102
    },
    "colab_type": "code",
    "id": "TBI4r2roUqP9",
    "outputId": "b215627b-1f64-4006-af25-abca5c096406"
   },
   "outputs": [],
   "source": [
    "# use best score\n",
    "decoded_message = decode_message(encoded_message, best_map)\n",
    "\n",
    "print(\"LL of decoded message:\", get_sequence_prob(decoded_message))\n",
    "print(\"LL of true message:\", get_sequence_prob(regex.sub(' ', original_message.lower())))\n",
    "\n",
    "\n",
    "# which letters are wrong?\n",
    "for true, v in true_mapping.items():\n",
    "  pred = best_map[v]\n",
    "  if true != pred:\n",
    "    print(\"true: %s, pred: %s\" % (true, pred))"
   ]
  },
  {
   "cell_type": "code",
   "execution_count": null,
   "metadata": {
    "colab": {
     "base_uri": "https://localhost:8080/",
     "height": 357
    },
    "colab_type": "code",
    "id": "cZqTut0mU-6S",
    "outputId": "0dab349d-218b-475b-919e-d813a7626d5c"
   },
   "outputs": [],
   "source": [
    "# print the final decoded message\n",
    "print(\"Decoded message:\\n\", textwrap.fill(decoded_message))\n",
    "\n",
    "print(\"\\nTrue message:\\n\", original_message)"
   ]
  },
  {
   "cell_type": "code",
   "execution_count": null,
   "metadata": {
    "colab": {
     "base_uri": "https://localhost:8080/",
     "height": 265
    },
    "colab_type": "code",
    "id": "3CycJAYFVfoW",
    "outputId": "8714691d-1873-4eb6-9170-5308b40998bc"
   },
   "outputs": [],
   "source": [
    "plt.plot(scores)\n",
    "plt.show()"
   ]
  },
  {
   "cell_type": "code",
   "execution_count": null,
   "metadata": {},
   "outputs": [],
   "source": []
  }
 ],
 "metadata": {
  "colab": {
   "name": "Cipher.ipynb",
   "provenance": []
  },
  "kernelspec": {
   "display_name": "Python 3",
   "language": "python",
   "name": "python3"
  },
  "language_info": {
   "codemirror_mode": {
    "name": "ipython",
    "version": 3
   },
   "file_extension": ".py",
   "mimetype": "text/x-python",
   "name": "python",
   "nbconvert_exporter": "python",
   "pygments_lexer": "ipython3",
   "version": "3.7.7"
  }
 },
 "nbformat": 4,
 "nbformat_minor": 1
}
